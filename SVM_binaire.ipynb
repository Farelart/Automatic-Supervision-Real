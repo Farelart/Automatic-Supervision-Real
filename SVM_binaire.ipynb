{
 "cells": [
  {
   "cell_type": "code",
   "execution_count": 1,
   "id": "eaa7a441-afa4-4da6-9674-e8cf0c86b28f",
   "metadata": {},
   "outputs": [],
   "source": [
    "import numpy as np\n",
    "import pandas as pd\n",
    "import seaborn as sns\n",
    "import matplotlib.pyplot as plt"
   ]
  },
  {
   "cell_type": "code",
   "execution_count": 2,
   "id": "ef4d626e-19cc-4e10-9533-00ea6df094ff",
   "metadata": {},
   "outputs": [],
   "source": [
    "df=pd.read_csv('Dataset_binary_class')"
   ]
  },
  {
   "cell_type": "code",
   "execution_count": 3,
   "id": "31b5204b-fd23-404e-9e97-02929a60df88",
   "metadata": {},
   "outputs": [
    {
     "data": {
      "text/html": [
       "<div>\n",
       "<style scoped>\n",
       "    .dataframe tbody tr th:only-of-type {\n",
       "        vertical-align: middle;\n",
       "    }\n",
       "\n",
       "    .dataframe tbody tr th {\n",
       "        vertical-align: top;\n",
       "    }\n",
       "\n",
       "    .dataframe thead th {\n",
       "        text-align: right;\n",
       "    }\n",
       "</style>\n",
       "<table border=\"1\" class=\"dataframe\">\n",
       "  <thead>\n",
       "    <tr style=\"text-align: right;\">\n",
       "      <th></th>\n",
       "      <th>Unnamed: 0</th>\n",
       "      <th>puisance de chauffe</th>\n",
       "      <th>puissance de prechauffage</th>\n",
       "      <th>Taux de reflux</th>\n",
       "      <th>Débit alimentation</th>\n",
       "      <th>Pertes de charges</th>\n",
       "      <th>Température de préchauffe</th>\n",
       "      <th>Température bouilleur</th>\n",
       "      <th>TCOLONNE_class</th>\n",
       "    </tr>\n",
       "  </thead>\n",
       "  <tbody>\n",
       "    <tr>\n",
       "      <th>0</th>\n",
       "      <td>0</td>\n",
       "      <td>100</td>\n",
       "      <td>2</td>\n",
       "      <td>8</td>\n",
       "      <td>2.17</td>\n",
       "      <td>0.9</td>\n",
       "      <td>85.3</td>\n",
       "      <td>107.8</td>\n",
       "      <td>1</td>\n",
       "    </tr>\n",
       "    <tr>\n",
       "      <th>1</th>\n",
       "      <td>1</td>\n",
       "      <td>0</td>\n",
       "      <td>4</td>\n",
       "      <td>10</td>\n",
       "      <td>2.17</td>\n",
       "      <td>2.6</td>\n",
       "      <td>84.5</td>\n",
       "      <td>107.8</td>\n",
       "      <td>1</td>\n",
       "    </tr>\n",
       "    <tr>\n",
       "      <th>2</th>\n",
       "      <td>2</td>\n",
       "      <td>73</td>\n",
       "      <td>5</td>\n",
       "      <td>4</td>\n",
       "      <td>2.17</td>\n",
       "      <td>1.1</td>\n",
       "      <td>83.9</td>\n",
       "      <td>107.8</td>\n",
       "      <td>1</td>\n",
       "    </tr>\n",
       "    <tr>\n",
       "      <th>3</th>\n",
       "      <td>3</td>\n",
       "      <td>70</td>\n",
       "      <td>7</td>\n",
       "      <td>12</td>\n",
       "      <td>2.17</td>\n",
       "      <td>2.2</td>\n",
       "      <td>83.2</td>\n",
       "      <td>107.9</td>\n",
       "      <td>1</td>\n",
       "    </tr>\n",
       "    <tr>\n",
       "      <th>4</th>\n",
       "      <td>4</td>\n",
       "      <td>32</td>\n",
       "      <td>9</td>\n",
       "      <td>7</td>\n",
       "      <td>2.17</td>\n",
       "      <td>1.4</td>\n",
       "      <td>82.7</td>\n",
       "      <td>107.9</td>\n",
       "      <td>1</td>\n",
       "    </tr>\n",
       "  </tbody>\n",
       "</table>\n",
       "</div>"
      ],
      "text/plain": [
       "   Unnamed: 0  puisance de chauffe  puissance de prechauffage  Taux de reflux  \\\n",
       "0           0                  100                          2               8   \n",
       "1           1                    0                          4              10   \n",
       "2           2                   73                          5               4   \n",
       "3           3                   70                          7              12   \n",
       "4           4                   32                          9               7   \n",
       "\n",
       "   Débit alimentation  Pertes de charges  Température de préchauffe  \\\n",
       "0                2.17                0.9                       85.3   \n",
       "1                2.17                2.6                       84.5   \n",
       "2                2.17                1.1                       83.9   \n",
       "3                2.17                2.2                       83.2   \n",
       "4                2.17                1.4                       82.7   \n",
       "\n",
       "   Température bouilleur  TCOLONNE_class  \n",
       "0                  107.8               1  \n",
       "1                  107.8               1  \n",
       "2                  107.8               1  \n",
       "3                  107.9               1  \n",
       "4                  107.9               1  "
      ]
     },
     "execution_count": 3,
     "metadata": {},
     "output_type": "execute_result"
    }
   ],
   "source": [
    "df.head()"
   ]
  },
  {
   "cell_type": "code",
   "execution_count": 4,
   "id": "b3dd5d9e-d891-44a3-82bc-728d75274ae4",
   "metadata": {},
   "outputs": [],
   "source": [
    "df.drop('Unnamed: 0', axis=1, inplace=True)"
   ]
  },
  {
   "cell_type": "code",
   "execution_count": 5,
   "id": "f2128335-81da-41e4-abd4-f48655b7372a",
   "metadata": {},
   "outputs": [
    {
     "data": {
      "text/html": [
       "<div>\n",
       "<style scoped>\n",
       "    .dataframe tbody tr th:only-of-type {\n",
       "        vertical-align: middle;\n",
       "    }\n",
       "\n",
       "    .dataframe tbody tr th {\n",
       "        vertical-align: top;\n",
       "    }\n",
       "\n",
       "    .dataframe thead th {\n",
       "        text-align: right;\n",
       "    }\n",
       "</style>\n",
       "<table border=\"1\" class=\"dataframe\">\n",
       "  <thead>\n",
       "    <tr style=\"text-align: right;\">\n",
       "      <th></th>\n",
       "      <th>puisance de chauffe</th>\n",
       "      <th>puissance de prechauffage</th>\n",
       "      <th>Taux de reflux</th>\n",
       "      <th>Débit alimentation</th>\n",
       "      <th>Pertes de charges</th>\n",
       "      <th>Température de préchauffe</th>\n",
       "      <th>Température bouilleur</th>\n",
       "      <th>TCOLONNE_class</th>\n",
       "    </tr>\n",
       "  </thead>\n",
       "  <tbody>\n",
       "    <tr>\n",
       "      <th>0</th>\n",
       "      <td>100</td>\n",
       "      <td>2</td>\n",
       "      <td>8</td>\n",
       "      <td>2.17</td>\n",
       "      <td>0.9</td>\n",
       "      <td>85.3</td>\n",
       "      <td>107.8</td>\n",
       "      <td>1</td>\n",
       "    </tr>\n",
       "    <tr>\n",
       "      <th>1</th>\n",
       "      <td>0</td>\n",
       "      <td>4</td>\n",
       "      <td>10</td>\n",
       "      <td>2.17</td>\n",
       "      <td>2.6</td>\n",
       "      <td>84.5</td>\n",
       "      <td>107.8</td>\n",
       "      <td>1</td>\n",
       "    </tr>\n",
       "    <tr>\n",
       "      <th>2</th>\n",
       "      <td>73</td>\n",
       "      <td>5</td>\n",
       "      <td>4</td>\n",
       "      <td>2.17</td>\n",
       "      <td>1.1</td>\n",
       "      <td>83.9</td>\n",
       "      <td>107.8</td>\n",
       "      <td>1</td>\n",
       "    </tr>\n",
       "    <tr>\n",
       "      <th>3</th>\n",
       "      <td>70</td>\n",
       "      <td>7</td>\n",
       "      <td>12</td>\n",
       "      <td>2.17</td>\n",
       "      <td>2.2</td>\n",
       "      <td>83.2</td>\n",
       "      <td>107.9</td>\n",
       "      <td>1</td>\n",
       "    </tr>\n",
       "    <tr>\n",
       "      <th>4</th>\n",
       "      <td>32</td>\n",
       "      <td>9</td>\n",
       "      <td>7</td>\n",
       "      <td>2.17</td>\n",
       "      <td>1.4</td>\n",
       "      <td>82.7</td>\n",
       "      <td>107.9</td>\n",
       "      <td>1</td>\n",
       "    </tr>\n",
       "  </tbody>\n",
       "</table>\n",
       "</div>"
      ],
      "text/plain": [
       "   puisance de chauffe  puissance de prechauffage  Taux de reflux  \\\n",
       "0                  100                          2               8   \n",
       "1                    0                          4              10   \n",
       "2                   73                          5               4   \n",
       "3                   70                          7              12   \n",
       "4                   32                          9               7   \n",
       "\n",
       "   Débit alimentation  Pertes de charges  Température de préchauffe  \\\n",
       "0                2.17                0.9                       85.3   \n",
       "1                2.17                2.6                       84.5   \n",
       "2                2.17                1.1                       83.9   \n",
       "3                2.17                2.2                       83.2   \n",
       "4                2.17                1.4                       82.7   \n",
       "\n",
       "   Température bouilleur  TCOLONNE_class  \n",
       "0                  107.8               1  \n",
       "1                  107.8               1  \n",
       "2                  107.8               1  \n",
       "3                  107.9               1  \n",
       "4                  107.9               1  "
      ]
     },
     "execution_count": 5,
     "metadata": {},
     "output_type": "execute_result"
    }
   ],
   "source": [
    "df.head()"
   ]
  },
  {
   "cell_type": "code",
   "execution_count": 6,
   "id": "a23fdcbd-7960-433f-9634-80694001398d",
   "metadata": {},
   "outputs": [],
   "source": [
    "df_features = df.drop('TCOLONNE_class', axis=1, inplace=False)"
   ]
  },
  {
   "cell_type": "code",
   "execution_count": 7,
   "id": "26d1a34a-9470-40e1-9658-ed1d131b4a32",
   "metadata": {},
   "outputs": [
    {
     "data": {
      "text/html": [
       "<div>\n",
       "<style scoped>\n",
       "    .dataframe tbody tr th:only-of-type {\n",
       "        vertical-align: middle;\n",
       "    }\n",
       "\n",
       "    .dataframe tbody tr th {\n",
       "        vertical-align: top;\n",
       "    }\n",
       "\n",
       "    .dataframe thead th {\n",
       "        text-align: right;\n",
       "    }\n",
       "</style>\n",
       "<table border=\"1\" class=\"dataframe\">\n",
       "  <thead>\n",
       "    <tr style=\"text-align: right;\">\n",
       "      <th></th>\n",
       "      <th>puisance de chauffe</th>\n",
       "      <th>puissance de prechauffage</th>\n",
       "      <th>Taux de reflux</th>\n",
       "      <th>Débit alimentation</th>\n",
       "      <th>Pertes de charges</th>\n",
       "      <th>Température de préchauffe</th>\n",
       "      <th>Température bouilleur</th>\n",
       "    </tr>\n",
       "  </thead>\n",
       "  <tbody>\n",
       "    <tr>\n",
       "      <th>0</th>\n",
       "      <td>100</td>\n",
       "      <td>2</td>\n",
       "      <td>8</td>\n",
       "      <td>2.17</td>\n",
       "      <td>0.9</td>\n",
       "      <td>85.3</td>\n",
       "      <td>107.8</td>\n",
       "    </tr>\n",
       "    <tr>\n",
       "      <th>1</th>\n",
       "      <td>0</td>\n",
       "      <td>4</td>\n",
       "      <td>10</td>\n",
       "      <td>2.17</td>\n",
       "      <td>2.6</td>\n",
       "      <td>84.5</td>\n",
       "      <td>107.8</td>\n",
       "    </tr>\n",
       "    <tr>\n",
       "      <th>2</th>\n",
       "      <td>73</td>\n",
       "      <td>5</td>\n",
       "      <td>4</td>\n",
       "      <td>2.17</td>\n",
       "      <td>1.1</td>\n",
       "      <td>83.9</td>\n",
       "      <td>107.8</td>\n",
       "    </tr>\n",
       "    <tr>\n",
       "      <th>3</th>\n",
       "      <td>70</td>\n",
       "      <td>7</td>\n",
       "      <td>12</td>\n",
       "      <td>2.17</td>\n",
       "      <td>2.2</td>\n",
       "      <td>83.2</td>\n",
       "      <td>107.9</td>\n",
       "    </tr>\n",
       "    <tr>\n",
       "      <th>4</th>\n",
       "      <td>32</td>\n",
       "      <td>9</td>\n",
       "      <td>7</td>\n",
       "      <td>2.17</td>\n",
       "      <td>1.4</td>\n",
       "      <td>82.7</td>\n",
       "      <td>107.9</td>\n",
       "    </tr>\n",
       "  </tbody>\n",
       "</table>\n",
       "</div>"
      ],
      "text/plain": [
       "   puisance de chauffe  puissance de prechauffage  Taux de reflux  \\\n",
       "0                  100                          2               8   \n",
       "1                    0                          4              10   \n",
       "2                   73                          5               4   \n",
       "3                   70                          7              12   \n",
       "4                   32                          9               7   \n",
       "\n",
       "   Débit alimentation  Pertes de charges  Température de préchauffe  \\\n",
       "0                2.17                0.9                       85.3   \n",
       "1                2.17                2.6                       84.5   \n",
       "2                2.17                1.1                       83.9   \n",
       "3                2.17                2.2                       83.2   \n",
       "4                2.17                1.4                       82.7   \n",
       "\n",
       "   Température bouilleur  \n",
       "0                  107.8  \n",
       "1                  107.8  \n",
       "2                  107.8  \n",
       "3                  107.9  \n",
       "4                  107.9  "
      ]
     },
     "execution_count": 7,
     "metadata": {},
     "output_type": "execute_result"
    }
   ],
   "source": [
    "df_features.head()"
   ]
  },
  {
   "cell_type": "code",
   "execution_count": 8,
   "id": "79bd7743-91ac-4216-9aae-802945555a2f",
   "metadata": {},
   "outputs": [],
   "source": [
    "from sklearn.preprocessing import StandardScaler"
   ]
  },
  {
   "cell_type": "code",
   "execution_count": 9,
   "id": "0fcba951-68ae-4b7a-8bea-6fe69f8fc6dd",
   "metadata": {},
   "outputs": [],
   "source": [
    "scale = StandardScaler()\n",
    "df_sc = scale.fit_transform(df_features)"
   ]
  },
  {
   "cell_type": "code",
   "execution_count": 11,
   "id": "cce25fba-0e94-4014-b150-f052dfb4cab5",
   "metadata": {},
   "outputs": [
    {
     "data": {
      "text/html": [
       "<div>\n",
       "<style scoped>\n",
       "    .dataframe tbody tr th:only-of-type {\n",
       "        vertical-align: middle;\n",
       "    }\n",
       "\n",
       "    .dataframe tbody tr th {\n",
       "        vertical-align: top;\n",
       "    }\n",
       "\n",
       "    .dataframe thead th {\n",
       "        text-align: right;\n",
       "    }\n",
       "</style>\n",
       "<table border=\"1\" class=\"dataframe\">\n",
       "  <thead>\n",
       "    <tr style=\"text-align: right;\">\n",
       "      <th></th>\n",
       "      <th>puisance de chauffe</th>\n",
       "      <th>puissance de prechauffage</th>\n",
       "      <th>Taux de reflux</th>\n",
       "      <th>Débit alimentation</th>\n",
       "      <th>Pertes de charges</th>\n",
       "      <th>Température de préchauffe</th>\n",
       "      <th>Température bouilleur</th>\n",
       "    </tr>\n",
       "  </thead>\n",
       "  <tbody>\n",
       "    <tr>\n",
       "      <th>0</th>\n",
       "      <td>1.052098</td>\n",
       "      <td>-1.031008</td>\n",
       "      <td>-0.345286</td>\n",
       "      <td>0.098819</td>\n",
       "      <td>-0.324148</td>\n",
       "      <td>0.582409</td>\n",
       "      <td>0.055358</td>\n",
       "    </tr>\n",
       "    <tr>\n",
       "      <th>1</th>\n",
       "      <td>-1.206039</td>\n",
       "      <td>-0.930278</td>\n",
       "      <td>-0.280983</td>\n",
       "      <td>0.098819</td>\n",
       "      <td>-0.255889</td>\n",
       "      <td>0.542018</td>\n",
       "      <td>0.055358</td>\n",
       "    </tr>\n",
       "    <tr>\n",
       "      <th>2</th>\n",
       "      <td>0.442401</td>\n",
       "      <td>-0.879912</td>\n",
       "      <td>-0.473893</td>\n",
       "      <td>0.098819</td>\n",
       "      <td>-0.316117</td>\n",
       "      <td>0.511724</td>\n",
       "      <td>0.055358</td>\n",
       "    </tr>\n",
       "    <tr>\n",
       "      <th>3</th>\n",
       "      <td>0.374657</td>\n",
       "      <td>-0.779182</td>\n",
       "      <td>-0.216679</td>\n",
       "      <td>0.098819</td>\n",
       "      <td>-0.271950</td>\n",
       "      <td>0.476382</td>\n",
       "      <td>0.074960</td>\n",
       "    </tr>\n",
       "    <tr>\n",
       "      <th>4</th>\n",
       "      <td>-0.483435</td>\n",
       "      <td>-0.678452</td>\n",
       "      <td>-0.377438</td>\n",
       "      <td>0.098819</td>\n",
       "      <td>-0.304072</td>\n",
       "      <td>0.451138</td>\n",
       "      <td>0.074960</td>\n",
       "    </tr>\n",
       "  </tbody>\n",
       "</table>\n",
       "</div>"
      ],
      "text/plain": [
       "   puisance de chauffe  puissance de prechauffage  Taux de reflux  \\\n",
       "0             1.052098                  -1.031008       -0.345286   \n",
       "1            -1.206039                  -0.930278       -0.280983   \n",
       "2             0.442401                  -0.879912       -0.473893   \n",
       "3             0.374657                  -0.779182       -0.216679   \n",
       "4            -0.483435                  -0.678452       -0.377438   \n",
       "\n",
       "   Débit alimentation  Pertes de charges  Température de préchauffe  \\\n",
       "0            0.098819          -0.324148                   0.582409   \n",
       "1            0.098819          -0.255889                   0.542018   \n",
       "2            0.098819          -0.316117                   0.511724   \n",
       "3            0.098819          -0.271950                   0.476382   \n",
       "4            0.098819          -0.304072                   0.451138   \n",
       "\n",
       "   Température bouilleur  \n",
       "0               0.055358  \n",
       "1               0.055358  \n",
       "2               0.055358  \n",
       "3               0.074960  \n",
       "4               0.074960  "
      ]
     },
     "execution_count": 11,
     "metadata": {},
     "output_type": "execute_result"
    }
   ],
   "source": [
    "df_sc = pd.DataFrame(df_sc, columns = df_features.columns)\n",
    "df_sc.head()"
   ]
  },
  {
   "cell_type": "code",
   "execution_count": 12,
   "id": "d4246324-df66-4e73-b01c-28be9bf41d25",
   "metadata": {},
   "outputs": [
    {
     "data": {
      "text/html": [
       "<div>\n",
       "<style scoped>\n",
       "    .dataframe tbody tr th:only-of-type {\n",
       "        vertical-align: middle;\n",
       "    }\n",
       "\n",
       "    .dataframe tbody tr th {\n",
       "        vertical-align: top;\n",
       "    }\n",
       "\n",
       "    .dataframe thead th {\n",
       "        text-align: right;\n",
       "    }\n",
       "</style>\n",
       "<table border=\"1\" class=\"dataframe\">\n",
       "  <thead>\n",
       "    <tr style=\"text-align: right;\">\n",
       "      <th></th>\n",
       "      <th>count</th>\n",
       "      <th>mean</th>\n",
       "      <th>std</th>\n",
       "      <th>min</th>\n",
       "      <th>25%</th>\n",
       "      <th>50%</th>\n",
       "      <th>75%</th>\n",
       "      <th>max</th>\n",
       "    </tr>\n",
       "  </thead>\n",
       "  <tbody>\n",
       "    <tr>\n",
       "      <th>puisance de chauffe</th>\n",
       "      <td>2401.0</td>\n",
       "      <td>1.026529e-17</td>\n",
       "      <td>1.000208</td>\n",
       "      <td>-1.206039</td>\n",
       "      <td>-1.206039</td>\n",
       "      <td>0.216587</td>\n",
       "      <td>1.052098</td>\n",
       "      <td>1.052098</td>\n",
       "    </tr>\n",
       "    <tr>\n",
       "      <th>puissance de prechauffage</th>\n",
       "      <td>2401.0</td>\n",
       "      <td>1.468352e-16</td>\n",
       "      <td>1.000208</td>\n",
       "      <td>-1.131738</td>\n",
       "      <td>-0.577721</td>\n",
       "      <td>-0.225165</td>\n",
       "      <td>0.127392</td>\n",
       "      <td>3.401131</td>\n",
       "    </tr>\n",
       "    <tr>\n",
       "      <th>Taux de reflux</th>\n",
       "      <td>2401.0</td>\n",
       "      <td>-1.517043e-15</td>\n",
       "      <td>1.000208</td>\n",
       "      <td>-0.602500</td>\n",
       "      <td>-0.506045</td>\n",
       "      <td>-0.345286</td>\n",
       "      <td>-0.216679</td>\n",
       "      <td>2.612674</td>\n",
       "    </tr>\n",
       "    <tr>\n",
       "      <th>Débit alimentation</th>\n",
       "      <td>2401.0</td>\n",
       "      <td>4.038026e-16</td>\n",
       "      <td>1.000208</td>\n",
       "      <td>-2.038086</td>\n",
       "      <td>0.098819</td>\n",
       "      <td>0.098819</td>\n",
       "      <td>0.098819</td>\n",
       "      <td>2.235725</td>\n",
       "    </tr>\n",
       "    <tr>\n",
       "      <th>Pertes de charges</th>\n",
       "      <td>2401.0</td>\n",
       "      <td>8.680178e-16</td>\n",
       "      <td>1.000208</td>\n",
       "      <td>-0.352254</td>\n",
       "      <td>-0.316117</td>\n",
       "      <td>-0.283996</td>\n",
       "      <td>-0.247858</td>\n",
       "      <td>3.719182</td>\n",
       "    </tr>\n",
       "    <tr>\n",
       "      <th>Température de préchauffe</th>\n",
       "      <td>2401.0</td>\n",
       "      <td>-2.915711e-15</td>\n",
       "      <td>1.000208</td>\n",
       "      <td>-3.678847</td>\n",
       "      <td>0.234036</td>\n",
       "      <td>0.299671</td>\n",
       "      <td>0.365307</td>\n",
       "      <td>0.819706</td>\n",
       "    </tr>\n",
       "    <tr>\n",
       "      <th>Température bouilleur</th>\n",
       "      <td>2401.0</td>\n",
       "      <td>-1.655058e-15</td>\n",
       "      <td>1.000208</td>\n",
       "      <td>-12.685400</td>\n",
       "      <td>0.094561</td>\n",
       "      <td>0.270971</td>\n",
       "      <td>0.290572</td>\n",
       "      <td>0.564989</td>\n",
       "    </tr>\n",
       "  </tbody>\n",
       "</table>\n",
       "</div>"
      ],
      "text/plain": [
       "                            count          mean       std        min  \\\n",
       "puisance de chauffe        2401.0  1.026529e-17  1.000208  -1.206039   \n",
       "puissance de prechauffage  2401.0  1.468352e-16  1.000208  -1.131738   \n",
       "Taux de reflux             2401.0 -1.517043e-15  1.000208  -0.602500   \n",
       "Débit alimentation         2401.0  4.038026e-16  1.000208  -2.038086   \n",
       "Pertes de charges          2401.0  8.680178e-16  1.000208  -0.352254   \n",
       "Température de préchauffe  2401.0 -2.915711e-15  1.000208  -3.678847   \n",
       "Température bouilleur      2401.0 -1.655058e-15  1.000208 -12.685400   \n",
       "\n",
       "                                25%       50%       75%       max  \n",
       "puisance de chauffe       -1.206039  0.216587  1.052098  1.052098  \n",
       "puissance de prechauffage -0.577721 -0.225165  0.127392  3.401131  \n",
       "Taux de reflux            -0.506045 -0.345286 -0.216679  2.612674  \n",
       "Débit alimentation         0.098819  0.098819  0.098819  2.235725  \n",
       "Pertes de charges         -0.316117 -0.283996 -0.247858  3.719182  \n",
       "Température de préchauffe  0.234036  0.299671  0.365307  0.819706  \n",
       "Température bouilleur      0.094561  0.270971  0.290572  0.564989  "
      ]
     },
     "execution_count": 12,
     "metadata": {},
     "output_type": "execute_result"
    }
   ],
   "source": [
    "df_sc.describe().T"
   ]
  },
  {
   "cell_type": "code",
   "execution_count": 13,
   "id": "3b36ee26-ec5f-4f72-86ae-115ff8517d95",
   "metadata": {},
   "outputs": [],
   "source": [
    "df_sc['TCOLONNE_class'] = df['TCOLONNE_class']"
   ]
  },
  {
   "cell_type": "code",
   "execution_count": 14,
   "id": "3ecaa2c4-5323-45da-9125-69beff4eb09d",
   "metadata": {},
   "outputs": [
    {
     "data": {
      "text/html": [
       "<div>\n",
       "<style scoped>\n",
       "    .dataframe tbody tr th:only-of-type {\n",
       "        vertical-align: middle;\n",
       "    }\n",
       "\n",
       "    .dataframe tbody tr th {\n",
       "        vertical-align: top;\n",
       "    }\n",
       "\n",
       "    .dataframe thead th {\n",
       "        text-align: right;\n",
       "    }\n",
       "</style>\n",
       "<table border=\"1\" class=\"dataframe\">\n",
       "  <thead>\n",
       "    <tr style=\"text-align: right;\">\n",
       "      <th></th>\n",
       "      <th>puisance de chauffe</th>\n",
       "      <th>puissance de prechauffage</th>\n",
       "      <th>Taux de reflux</th>\n",
       "      <th>Débit alimentation</th>\n",
       "      <th>Pertes de charges</th>\n",
       "      <th>Température de préchauffe</th>\n",
       "      <th>Température bouilleur</th>\n",
       "      <th>TCOLONNE_class</th>\n",
       "    </tr>\n",
       "  </thead>\n",
       "  <tbody>\n",
       "    <tr>\n",
       "      <th>0</th>\n",
       "      <td>1.052098</td>\n",
       "      <td>-1.031008</td>\n",
       "      <td>-0.345286</td>\n",
       "      <td>0.098819</td>\n",
       "      <td>-0.324148</td>\n",
       "      <td>0.582409</td>\n",
       "      <td>0.055358</td>\n",
       "      <td>1</td>\n",
       "    </tr>\n",
       "    <tr>\n",
       "      <th>1</th>\n",
       "      <td>-1.206039</td>\n",
       "      <td>-0.930278</td>\n",
       "      <td>-0.280983</td>\n",
       "      <td>0.098819</td>\n",
       "      <td>-0.255889</td>\n",
       "      <td>0.542018</td>\n",
       "      <td>0.055358</td>\n",
       "      <td>1</td>\n",
       "    </tr>\n",
       "    <tr>\n",
       "      <th>2</th>\n",
       "      <td>0.442401</td>\n",
       "      <td>-0.879912</td>\n",
       "      <td>-0.473893</td>\n",
       "      <td>0.098819</td>\n",
       "      <td>-0.316117</td>\n",
       "      <td>0.511724</td>\n",
       "      <td>0.055358</td>\n",
       "      <td>1</td>\n",
       "    </tr>\n",
       "    <tr>\n",
       "      <th>3</th>\n",
       "      <td>0.374657</td>\n",
       "      <td>-0.779182</td>\n",
       "      <td>-0.216679</td>\n",
       "      <td>0.098819</td>\n",
       "      <td>-0.271950</td>\n",
       "      <td>0.476382</td>\n",
       "      <td>0.074960</td>\n",
       "      <td>1</td>\n",
       "    </tr>\n",
       "    <tr>\n",
       "      <th>4</th>\n",
       "      <td>-0.483435</td>\n",
       "      <td>-0.678452</td>\n",
       "      <td>-0.377438</td>\n",
       "      <td>0.098819</td>\n",
       "      <td>-0.304072</td>\n",
       "      <td>0.451138</td>\n",
       "      <td>0.074960</td>\n",
       "      <td>1</td>\n",
       "    </tr>\n",
       "  </tbody>\n",
       "</table>\n",
       "</div>"
      ],
      "text/plain": [
       "   puisance de chauffe  puissance de prechauffage  Taux de reflux  \\\n",
       "0             1.052098                  -1.031008       -0.345286   \n",
       "1            -1.206039                  -0.930278       -0.280983   \n",
       "2             0.442401                  -0.879912       -0.473893   \n",
       "3             0.374657                  -0.779182       -0.216679   \n",
       "4            -0.483435                  -0.678452       -0.377438   \n",
       "\n",
       "   Débit alimentation  Pertes de charges  Température de préchauffe  \\\n",
       "0            0.098819          -0.324148                   0.582409   \n",
       "1            0.098819          -0.255889                   0.542018   \n",
       "2            0.098819          -0.316117                   0.511724   \n",
       "3            0.098819          -0.271950                   0.476382   \n",
       "4            0.098819          -0.304072                   0.451138   \n",
       "\n",
       "   Température bouilleur  TCOLONNE_class  \n",
       "0               0.055358               1  \n",
       "1               0.055358               1  \n",
       "2               0.055358               1  \n",
       "3               0.074960               1  \n",
       "4               0.074960               1  "
      ]
     },
     "execution_count": 14,
     "metadata": {},
     "output_type": "execute_result"
    }
   ],
   "source": [
    "df_sc.head()"
   ]
  },
  {
   "cell_type": "code",
   "execution_count": 15,
   "id": "21216c4b-e3a4-42d9-a6c3-a57ed67a0d7c",
   "metadata": {},
   "outputs": [],
   "source": [
    "y = df_sc['TCOLONNE_class']\n",
    "X = df_sc.drop('TCOLONNE_class', axis=1, inplace=False)"
   ]
  },
  {
   "cell_type": "code",
   "execution_count": 17,
   "id": "5e0dec35-3a58-4f75-bd32-c45650b47a01",
   "metadata": {},
   "outputs": [
    {
     "data": {
      "text/html": [
       "<div>\n",
       "<style scoped>\n",
       "    .dataframe tbody tr th:only-of-type {\n",
       "        vertical-align: middle;\n",
       "    }\n",
       "\n",
       "    .dataframe tbody tr th {\n",
       "        vertical-align: top;\n",
       "    }\n",
       "\n",
       "    .dataframe thead th {\n",
       "        text-align: right;\n",
       "    }\n",
       "</style>\n",
       "<table border=\"1\" class=\"dataframe\">\n",
       "  <thead>\n",
       "    <tr style=\"text-align: right;\">\n",
       "      <th>TCOLONNE_class</th>\n",
       "      <th>0</th>\n",
       "      <th>1</th>\n",
       "    </tr>\n",
       "    <tr>\n",
       "      <th>TCOLONNE_class</th>\n",
       "      <th></th>\n",
       "      <th></th>\n",
       "    </tr>\n",
       "  </thead>\n",
       "  <tbody>\n",
       "    <tr>\n",
       "      <th>0</th>\n",
       "      <td>44.314869</td>\n",
       "      <td>0.000000</td>\n",
       "    </tr>\n",
       "    <tr>\n",
       "      <th>1</th>\n",
       "      <td>0.000000</td>\n",
       "      <td>55.685131</td>\n",
       "    </tr>\n",
       "  </tbody>\n",
       "</table>\n",
       "</div>"
      ],
      "text/plain": [
       "TCOLONNE_class          0          1\n",
       "TCOLONNE_class                      \n",
       "0               44.314869   0.000000\n",
       "1                0.000000  55.685131"
      ]
     },
     "execution_count": 17,
     "metadata": {},
     "output_type": "execute_result"
    }
   ],
   "source": [
    "pd.crosstab(df_sc['TCOLONNE_class'], df_sc['TCOLONNE_class'], normalize = 'all')*100"
   ]
  },
  {
   "cell_type": "code",
   "execution_count": 18,
   "id": "037f2223-bcd5-4c9f-b20e-a5dc6ba06007",
   "metadata": {},
   "outputs": [],
   "source": [
    "from sklearn.model_selection import train_test_split\n",
    "X_train, X_test, y_train, y_test = train_test_split(X, y, test_size=0.2, random_state=1000)"
   ]
  },
  {
   "cell_type": "code",
   "execution_count": 19,
   "id": "18972ada-e7d3-4174-a10a-d78b98edd6db",
   "metadata": {},
   "outputs": [],
   "source": [
    "from sklearn.svm import SVC"
   ]
  },
  {
   "cell_type": "code",
   "execution_count": 20,
   "id": "782344d9-d517-4d00-a83f-e40e4fcdf192",
   "metadata": {},
   "outputs": [
    {
     "data": {
      "text/plain": [
       "SVC(C=1, kernel='linear')"
      ]
     },
     "execution_count": 20,
     "metadata": {},
     "output_type": "execute_result"
    }
   ],
   "source": [
    "SVM_linear_1 =  SVC(kernel='linear', C=1)\n",
    "SVM_linear_1.fit(X_train, y_train)"
   ]
  },
  {
   "cell_type": "code",
   "execution_count": 21,
   "id": "178ffb76-7fed-487c-b89e-5904b10d3bdb",
   "metadata": {},
   "outputs": [],
   "source": [
    "y_hat = SVM_linear_1.predict(X_test)"
   ]
  },
  {
   "cell_type": "code",
   "execution_count": 22,
   "id": "a2a6bfa6-a520-4090-a5a8-1e3de2c3e1f7",
   "metadata": {},
   "outputs": [
    {
     "name": "stdout",
     "output_type": "stream",
     "text": [
      "              precision    recall  f1-score   support\n",
      "\n",
      "           0       0.96      0.92      0.94       218\n",
      "           1       0.94      0.97      0.95       263\n",
      "\n",
      "    accuracy                           0.95       481\n",
      "   macro avg       0.95      0.95      0.95       481\n",
      "weighted avg       0.95      0.95      0.95       481\n",
      "\n"
     ]
    }
   ],
   "source": [
    "from sklearn.metrics import classification_report\n",
    "print(classification_report(y_test, y_hat))"
   ]
  },
  {
   "cell_type": "code",
   "execution_count": 23,
   "id": "bdf880f2-bf95-439a-9f67-b4267751a494",
   "metadata": {},
   "outputs": [
    {
     "data": {
      "text/plain": [
       "SVC(C=1, gamma=0.1)"
      ]
     },
     "execution_count": 23,
     "metadata": {},
     "output_type": "execute_result"
    }
   ],
   "source": [
    "SVM_rbf_1 =  SVC(kernel='rbf', C=1, gamma=0.1)\n",
    "SVM_rbf_1.fit(X_train, y_train)"
   ]
  },
  {
   "cell_type": "code",
   "execution_count": 24,
   "id": "19b22ea6-d7d5-40cd-b346-342c54dee15b",
   "metadata": {},
   "outputs": [],
   "source": [
    "y_hat_rbf_1 = SVM_rbf_1.predict(X_test)"
   ]
  },
  {
   "cell_type": "code",
   "execution_count": 25,
   "id": "4de4ed0d-2cdb-4ff9-825a-44171f98638c",
   "metadata": {},
   "outputs": [
    {
     "name": "stdout",
     "output_type": "stream",
     "text": [
      "              precision    recall  f1-score   support\n",
      "\n",
      "           0       0.99      0.93      0.96       218\n",
      "           1       0.95      0.99      0.97       263\n",
      "\n",
      "    accuracy                           0.96       481\n",
      "   macro avg       0.97      0.96      0.96       481\n",
      "weighted avg       0.97      0.96      0.96       481\n",
      "\n"
     ]
    }
   ],
   "source": [
    "from sklearn.metrics import classification_report\n",
    "print(classification_report(y_test, y_hat_rbf_1))"
   ]
  },
  {
   "cell_type": "code",
   "execution_count": 26,
   "id": "183a5b44-33a2-46dd-8f45-f7444a1583d1",
   "metadata": {},
   "outputs": [
    {
     "data": {
      "text/plain": [
       "SVC(C=1, gamma=0.1, kernel='poly')"
      ]
     },
     "execution_count": 26,
     "metadata": {},
     "output_type": "execute_result"
    }
   ],
   "source": [
    "SVM_poly_1 =  SVC(kernel='poly', C=1, gamma=0.1)\n",
    "SVM_poly_1.fit(X_train, y_train)"
   ]
  },
  {
   "cell_type": "code",
   "execution_count": 27,
   "id": "825dd763-4608-4cac-9fdb-bb052a0e360b",
   "metadata": {},
   "outputs": [
    {
     "name": "stdout",
     "output_type": "stream",
     "text": [
      "              precision    recall  f1-score   support\n",
      "\n",
      "           0       0.99      0.67      0.80       218\n",
      "           1       0.78      1.00      0.88       263\n",
      "\n",
      "    accuracy                           0.85       481\n",
      "   macro avg       0.89      0.83      0.84       481\n",
      "weighted avg       0.88      0.85      0.84       481\n",
      "\n"
     ]
    }
   ],
   "source": [
    "y_hat_poly_1 = SVM_poly_1.predict(X_test)\n",
    "print(classification_report(y_test, y_hat_poly_1))"
   ]
  },
  {
   "cell_type": "code",
   "execution_count": 28,
   "id": "ee2818e7-4b51-4fd1-9ebe-ba757846fa7b",
   "metadata": {},
   "outputs": [
    {
     "name": "stdout",
     "output_type": "stream",
     "text": [
      "              precision    recall  f1-score   support\n",
      "\n",
      "           0       0.96      0.93      0.95       218\n",
      "           1       0.94      0.97      0.96       263\n",
      "\n",
      "    accuracy                           0.95       481\n",
      "   macro avg       0.95      0.95      0.95       481\n",
      "weighted avg       0.95      0.95      0.95       481\n",
      "\n"
     ]
    }
   ],
   "source": [
    "SVM_linear_2 =  SVC(kernel='linear', C=10)\n",
    "SVM_linear_2.fit(X_train, y_train)\n",
    "y_hat_linear_2 = SVM_linear_2.predict(X_test)\n",
    "print(classification_report(y_test, y_hat_linear_2))"
   ]
  },
  {
   "cell_type": "code",
   "execution_count": 29,
   "id": "ca69b767-d33b-40a8-a918-3aa95d6a28c4",
   "metadata": {},
   "outputs": [
    {
     "name": "stdout",
     "output_type": "stream",
     "text": [
      "              precision    recall  f1-score   support\n",
      "\n",
      "           0       0.99      0.94      0.96       218\n",
      "           1       0.96      0.99      0.97       263\n",
      "\n",
      "    accuracy                           0.97       481\n",
      "   macro avg       0.97      0.97      0.97       481\n",
      "weighted avg       0.97      0.97      0.97       481\n",
      "\n"
     ]
    }
   ],
   "source": [
    "SVM_rbf_2 = SVC(kernel='rbf', C=10, gamma=0.3)\n",
    "SVM_rbf_2.fit(X_train, y_train)\n",
    "y_hat_rbf_2 = SVM_rbf_2.predict(X_test)\n",
    "print(classification_report(y_test, y_hat_rbf_2))"
   ]
  },
  {
   "cell_type": "code",
   "execution_count": 30,
   "id": "73338fc3-405d-4594-a9a8-9b7f60d98e82",
   "metadata": {},
   "outputs": [
    {
     "name": "stdout",
     "output_type": "stream",
     "text": [
      "              precision    recall  f1-score   support\n",
      "\n",
      "           0       0.98      0.94      0.96       218\n",
      "           1       0.95      0.98      0.97       263\n",
      "\n",
      "    accuracy                           0.96       481\n",
      "   macro avg       0.96      0.96      0.96       481\n",
      "weighted avg       0.96      0.96      0.96       481\n",
      "\n"
     ]
    }
   ],
   "source": [
    "SVM_poly_2 = SVC(kernel='poly', C=10, gamma=0.3)\n",
    "SVM_poly_2.fit(X_train, y_train)\n",
    "y_hat_poly_2 = SVM_poly_2.predict(X_test)\n",
    "print(classification_report(y_test, y_hat_poly_2))"
   ]
  },
  {
   "cell_type": "code",
   "execution_count": 31,
   "id": "ed103d93-3f08-4e26-9a27-fe748db73ef5",
   "metadata": {},
   "outputs": [
    {
     "name": "stdout",
     "output_type": "stream",
     "text": [
      "              precision    recall  f1-score   support\n",
      "\n",
      "           0       0.96      0.93      0.95       218\n",
      "           1       0.94      0.97      0.96       263\n",
      "\n",
      "    accuracy                           0.95       481\n",
      "   macro avg       0.95      0.95      0.95       481\n",
      "weighted avg       0.95      0.95      0.95       481\n",
      "\n"
     ]
    }
   ],
   "source": [
    "SVM_linear_3 =  SVC(kernel='linear', C=100)\n",
    "SVM_linear_3.fit(X_train, y_train)\n",
    "y_hat_linear_3 = SVM_linear_3.predict(X_test)\n",
    "print(classification_report(y_test, y_hat_linear_3))"
   ]
  },
  {
   "cell_type": "code",
   "execution_count": 32,
   "id": "62a955e9-f429-4d53-8655-2c7ab5a6a985",
   "metadata": {},
   "outputs": [
    {
     "name": "stdout",
     "output_type": "stream",
     "text": [
      "              precision    recall  f1-score   support\n",
      "\n",
      "           0       0.98      0.95      0.97       218\n",
      "           1       0.96      0.98      0.97       263\n",
      "\n",
      "    accuracy                           0.97       481\n",
      "   macro avg       0.97      0.97      0.97       481\n",
      "weighted avg       0.97      0.97      0.97       481\n",
      "\n"
     ]
    }
   ],
   "source": [
    "SVM_rbf_3 = SVC(kernel='rbf', C=100, gamma=0.6)\n",
    "SVM_rbf_3.fit(X_train, y_train)\n",
    "y_hat_rbf_3 = SVM_rbf_3.predict(X_test)\n",
    "print(classification_report(y_test, y_hat_rbf_3))"
   ]
  },
  {
   "cell_type": "code",
   "execution_count": 33,
   "id": "6cce4951-e3ef-479e-813b-f1ee0e15c677",
   "metadata": {},
   "outputs": [
    {
     "name": "stdout",
     "output_type": "stream",
     "text": [
      "              precision    recall  f1-score   support\n",
      "\n",
      "           0       0.98      0.96      0.97       218\n",
      "           1       0.97      0.98      0.97       263\n",
      "\n",
      "    accuracy                           0.97       481\n",
      "   macro avg       0.97      0.97      0.97       481\n",
      "weighted avg       0.97      0.97      0.97       481\n",
      "\n"
     ]
    }
   ],
   "source": [
    "SVM_poly_3 = SVC(kernel='poly', C=100, gamma=0.6)\n",
    "SVM_poly_3.fit(X_train, y_train)\n",
    "y_hat_poly_3 = SVM_poly_3.predict(X_test)\n",
    "print(classification_report(y_test, y_hat_poly_3))"
   ]
  },
  {
   "cell_type": "code",
   "execution_count": 34,
   "id": "1588713e-6bcf-41a4-8cbb-9d1fab6a6fd6",
   "metadata": {},
   "outputs": [
    {
     "name": "stdout",
     "output_type": "stream",
     "text": [
      "              precision    recall  f1-score   support\n",
      "\n",
      "           0       0.96      0.93      0.95       218\n",
      "           1       0.94      0.97      0.96       263\n",
      "\n",
      "    accuracy                           0.95       481\n",
      "   macro avg       0.95      0.95      0.95       481\n",
      "weighted avg       0.95      0.95      0.95       481\n",
      "\n"
     ]
    }
   ],
   "source": [
    "SVM_linear_4 =  SVC(kernel='linear', C=1000)\n",
    "SVM_linear_4.fit(X_train, y_train)\n",
    "y_hat_linear_4 = SVM_linear_4.predict(X_test)\n",
    "print(classification_report(y_test, y_hat_linear_4))"
   ]
  },
  {
   "cell_type": "code",
   "execution_count": 35,
   "id": "5d023555-d81e-480e-89b4-f7a71615392d",
   "metadata": {},
   "outputs": [
    {
     "name": "stdout",
     "output_type": "stream",
     "text": [
      "              precision    recall  f1-score   support\n",
      "\n",
      "           0       0.97      0.95      0.96       218\n",
      "           1       0.96      0.97      0.97       263\n",
      "\n",
      "    accuracy                           0.96       481\n",
      "   macro avg       0.96      0.96      0.96       481\n",
      "weighted avg       0.96      0.96      0.96       481\n",
      "\n"
     ]
    }
   ],
   "source": [
    "SVM_rbf_4 = SVC(kernel='rbf', C=1000, gamma=0.9)\n",
    "SVM_rbf_4.fit(X_train, y_train)\n",
    "y_hat_rbf_4 = SVM_rbf_4.predict(X_test)\n",
    "print(classification_report(y_test, y_hat_rbf_4))"
   ]
  },
  {
   "cell_type": "code",
   "execution_count": 36,
   "id": "4d98fc7e-a9e8-4451-8ce9-be896f2dab99",
   "metadata": {},
   "outputs": [
    {
     "name": "stdout",
     "output_type": "stream",
     "text": [
      "              precision    recall  f1-score   support\n",
      "\n",
      "           0       0.97      0.97      0.97       218\n",
      "           1       0.97      0.98      0.98       263\n",
      "\n",
      "    accuracy                           0.97       481\n",
      "   macro avg       0.97      0.97      0.97       481\n",
      "weighted avg       0.97      0.97      0.97       481\n",
      "\n"
     ]
    }
   ],
   "source": [
    "SVM_poly_4 = SVC(kernel='poly', C=1000, gamma=0.9)\n",
    "SVM_poly_4.fit(X_train, y_train)\n",
    "y_hat_poly_4 = SVM_poly_4.predict(X_test)\n",
    "print(classification_report(y_test, y_hat_poly_4))"
   ]
  },
  {
   "cell_type": "code",
   "execution_count": 1,
   "id": "322904b8-fd11-4949-9359-d840d02833fb",
   "metadata": {},
   "outputs": [
    {
     "ename": "NameError",
     "evalue": "name 'confusion_matrix' is not defined",
     "output_type": "error",
     "traceback": [
      "\u001b[1;31m---------------------------------------------------------------------------\u001b[0m",
      "\u001b[1;31mNameError\u001b[0m                                 Traceback (most recent call last)",
      "\u001b[1;32m~\\AppData\\Local\\Temp\\ipykernel_23924\\81673681.py\u001b[0m in \u001b[0;36m<module>\u001b[1;34m\u001b[0m\n\u001b[1;32m----> 1\u001b[1;33m \u001b[0mprint\u001b[0m\u001b[1;33m(\u001b[0m\u001b[0mconfusion_matrix\u001b[0m\u001b[1;33m(\u001b[0m\u001b[0my_test\u001b[0m\u001b[1;33m,\u001b[0m \u001b[0my_hat_poly_4\u001b[0m\u001b[1;33m)\u001b[0m\u001b[1;33m)\u001b[0m\u001b[1;33m\u001b[0m\u001b[1;33m\u001b[0m\u001b[0m\n\u001b[0m",
      "\u001b[1;31mNameError\u001b[0m: name 'confusion_matrix' is not defined"
     ]
    }
   ],
   "source": []
  },
  {
   "cell_type": "code",
   "execution_count": null,
   "id": "dc6976b2-c7ed-4f83-88fe-2a95b8945dec",
   "metadata": {},
   "outputs": [],
   "source": []
  }
 ],
 "metadata": {
  "kernelspec": {
   "display_name": "Python 3 (ipykernel)",
   "language": "python",
   "name": "python3"
  },
  "language_info": {
   "codemirror_mode": {
    "name": "ipython",
    "version": 3
   },
   "file_extension": ".py",
   "mimetype": "text/x-python",
   "name": "python",
   "nbconvert_exporter": "python",
   "pygments_lexer": "ipython3",
   "version": "3.9.13"
  }
 },
 "nbformat": 4,
 "nbformat_minor": 5
}
